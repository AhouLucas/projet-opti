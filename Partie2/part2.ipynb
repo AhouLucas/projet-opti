{
 "cells": [
  {
   "cell_type": "markdown",
   "metadata": {},
   "source": [
    "# Projet Optimisation - Partie 2\n",
    "---"
   ]
  },
  {
   "cell_type": "markdown",
   "metadata": {},
   "source": [
    "## Imports"
   ]
  },
  {
   "cell_type": "code",
   "execution_count": 2,
   "metadata": {},
   "outputs": [],
   "source": [
    "import sys\n",
    "import numpy as np\n",
    "np.set_printoptions(threshold=sys.maxsize) # To print more elements of an array in terminal\n",
    "import pandas as pd\n",
    "from scipy.optimize import linprog\n",
    "import matplotlib.pyplot as plt\n",
    "\n",
    "# For modelising more complex problems\n",
    "import cvxpy as cp"
   ]
  },
  {
   "cell_type": "markdown",
   "metadata": {},
   "source": [
    "## Parameters"
   ]
  },
  {
   "cell_type": "code",
   "execution_count": null,
   "metadata": {},
   "outputs": [],
   "source": []
  },
  {
   "cell_type": "markdown",
   "metadata": {},
   "source": [
    "## Datas"
   ]
  },
  {
   "cell_type": "code",
   "execution_count": 3,
   "metadata": {},
   "outputs": [],
   "source": [
    "# Loads dataframe\n",
    "sites_df = pd.read_csv('Data-partie-2/Sites.csv')\n",
    "offshore_df = pd.read_csv('Data-partie-2/Rendements_offshore.csv', header=None).to_numpy()\n",
    "onshore_df = pd.read_csv('Data-partie-2/Rendements_onshore.csv', header=None).to_numpy()\n",
    "\n",
    "# Get index of onshore and offshore sites and convert to numpy array\n",
    "offshore_idx = sites_df[sites_df['capacite offshore'] == 'Oui']['index site'].to_numpy(dtype=int)\n",
    "onshore_idx = sites_df[sites_df['capacite offshore'] == 'Non']['index site'].to_numpy(dtype=int)\n",
    "\n",
    "# Get number of sites (n) and number of hours in a year (m)\n",
    "n = sites_df.shape[0]\n",
    "m = offshore_df.shape[1]\n",
    "\n",
    "# Get max capacity of offshore and onshore sites\n",
    "max_capacity = np.zeros(n)\n",
    "max_capacity[offshore_idx] = sites_df[sites_df['capacite offshore'] == 'Oui']['capacites'].to_numpy(dtype=float)\n",
    "max_capacity[onshore_idx] = sites_df[sites_df['capacite offshore'] == 'Non']['capacites'].to_numpy(dtype=float)\n",
    "\n",
    "# Filter offshore and onshore dataframes\n",
    "offshore_df = offshore_df[offshore_idx, :]\n",
    "onshore_df = onshore_df[onshore_idx, :]\n",
    "rendements_on_off = np.zeros((n, m)) # Matrix that contains all the rendements of onshore and offshore sites at the correct indices\n",
    "rendements_on_off[offshore_idx, :] = offshore_df\n",
    "rendements_on_off[onshore_idx, :] = onshore_df\n",
    "\n",
    "# Loads consumption and hydro production\n",
    "consumptions = pd.read_csv('Data-partie-2/Consommations.csv', header=None).to_numpy()\n",
    "hydro_productions = pd.read_csv('Data-partie-2/Apports-hydro.csv', header=None).to_numpy()\n",
    "\n",
    "# Get number of country (p)\n",
    "p = consumptions.shape[0]\n",
    "\n",
    "# Costs\n",
    "onshore_install_cost = 168903 # [euro/MWh/year]\n",
    "offshore_install_cost = 300336 # [euro/MWh/year]\n",
    "\n",
    "gaz_install_cost = 94956 # [euro/MW/year]\n",
    "gaz_production_cost = 65 # [euro/MWh]\n",
    "\n",
    "# Country max stock per country [MWh]\n",
    "max_stock = np.array([0.3*1e6 , 3.2*1e6 , 0.01*1e6 , 0 , 18.4*1e6 , 9.8*1e6 , 0.24*1e6 , 7.9*1e6 , 0.005*1e6 , 84.147*1e6 , 0 , 2.6*1e6 , 1.2*1e6 , 33.756*1e6 , 8.4*1e6])\n",
    "\n",
    "# Max turbine and pump power per country [MW] \n",
    "max_turbine_power = np.array([8587 , 12009 , 1417 , 9 , 18372 , 25132 , 527 , 21117 , 1140 , 28941 , 37 , 5052 , 4269 , 16637 , 15101])\n",
    "max_pump_power = np.array([5223 , 3580 , 1307 , 0 , 5347 , 4303 , 292 , 7544 , 1100 , 1396 , 0 , 1029 , 2744 , 45 , 1636 ])\n",
    "\n",
    "# Turbine efficiency (eta)\n",
    "turbine_efficiency = 0.85"
   ]
  },
  {
   "cell_type": "markdown",
   "metadata": {},
   "source": [
    "## Question 4\n",
    "\n",
    "Nous posons :\n",
    "$$\n",
    "\\begin{align*}\n",
    "    c_i &= \\text{capacités sur le i}^\\text{ème} \\text{site} \\quad \\forall i \\in \\{0, \\ldots, n-1 \\}\\\\\n",
    "    t_j &= \\text{puissance de turbinage au temps j} \\quad \\forall j \\in \\{0, \\ldots, m-1 \\}\\\\\n",
    "    p_j &= \\text{puissance de pompage au temps j} \\quad \\forall j \\in \\{0, \\ldots, m-1 \\}\\\\\n",
    "    b_j &= \\text{niveau du bassin au temps j} \\quad \\forall j \\in \\{0, \\ldots, m-1 \\}\n",
    "\\end{align*}\n",
    "$$\n",
    "\n",
    "Nous avons donc :\n",
    "$$\n",
    "\\begin{align*}\n",
    "    \\min \\quad &\\mathrm{cost_{on}} \\times \\sum_{\\mathrm{on}} c_i + \\mathrm{cost_{off}} \\times \\sum_{\\mathrm{off}} c_i\\\\\n",
    "    &\\sum_i c_i \\sum_j e_i(j) + \\sum_j (\\eta \\times t_j - p_j) \\ge \\sum_j \\mathrm{consommation_j - a_j}\\\\\n",
    "    &\\sum_j p_j - t_j = \\sum_j a_j\\\\\n",
    "    &b_{j+1} = b_j + t_j - p_j + a_j \\Leftrightarrow b_{j+1} - b_j - t_j + p_j = a_j\\\\\n",
    "    &b_0 = 0.5 \\times \\mathrm{max\\_stockage}\\\\\n",
    "    &0 \\le p_j \\le \\mathrm{max\\_pompage} \\quad \\forall j \\in \\{0, \\ldots, m-1 \\}\\\\\n",
    "    &0 \\le t_j \\le \\mathrm{max\\_turbine} \\quad \\forall j \\in \\{0, \\ldots, m-1 \\}\\\\\n",
    "    &0 \\le c_i \\le c_i^\\mathrm{max}\\\\\n",
    "    &0 \\le b_j \\le \\mathrm{max\\_stockage} \\quad \\forall j \\in \\{0, \\ldots, m-1 \\}\n",
    "\\end{align*}\n",
    "$$\n",
    "\n",
    "---"
   ]
  },
  {
   "cell_type": "code",
   "execution_count": 12,
   "metadata": {},
   "outputs": [
    {
     "name": "stderr",
     "output_type": "stream",
     "text": [
      "/home/lucas/anaconda3/envs/math-env/lib/python3.12/site-packages/cvxpy/reductions/solvers/solving_chain.py:336: FutureWarning: \n",
      "    Your problem is being solved with the ECOS solver by default. Starting in \n",
      "    CVXPY 1.5.0, Clarabel will be used as the default solver instead. To continue \n",
      "    using ECOS, specify the ECOS solver explicitly using the ``solver=cp.ECOS`` \n",
      "    argument to the ``problem.solve`` method.\n",
      "    \n",
      "  warnings.warn(ECOS_DEPRECATION_MSG, FutureWarning)\n"
     ]
    },
    {
     "name": "stdout",
     "output_type": "stream",
     "text": [
      "inf\n"
     ]
    }
   ],
   "source": [
    "# Variable vectors\n",
    "c = cp.Variable(n)\n",
    "t = cp.Variable(m)\n",
    "p = cp.Variable(m)\n",
    "b = cp.Variable(m)\n",
    "\n",
    "# Objective function\n",
    "costs = np.zeros(n)\n",
    "costs[onshore_idx] = onshore_install_cost\n",
    "costs[offshore_idx] = offshore_install_cost\n",
    "f = cp.Minimize(costs.T@c)\n",
    "\n",
    "constraints = [\n",
    "    np.sum(rendements_on_off, axis=1)@c + cp.sum(turbine_efficiency*t - p) >= np.sum(np.concatenate(consumptions)) - np.sum(np.concatenate(hydro_productions)),\n",
    "    cp.sum(p - t) == np.sum(hydro_productions),\n",
    "    (np.eye(m, k=1) - np.eye(m))@b - t + p == np.sum(hydro_productions, axis=0),\n",
    "    b[0] == 0.5 * np.sum(max_stock),\n",
    "    p >= 0,\n",
    "    p <= np.sum(max_pump_power),\n",
    "    t >= 0,\n",
    "    t <= np.sum(max_turbine_power),\n",
    "    c >= 0,\n",
    "    c <= max_capacity,\n",
    "    b >= 0,\n",
    "    b <= np.sum(max_stock),\n",
    "]\n",
    "\n",
    "problem = cp.Problem(f, constraints)\n",
    "\n",
    "problem.solve()\n",
    "sol = np.stack((c.value, t.value, p.value, b.value))\n",
    "np.save(\"solutions/sol4B.npy\", sol)\n",
    "print(problem.value)"
   ]
  },
  {
   "cell_type": "code",
   "execution_count": 14,
   "metadata": {},
   "outputs": [
    {
     "name": "stdout",
     "output_type": "stream",
     "text": [
      "None\n"
     ]
    }
   ],
   "source": [
    "sol = np.load(\"solutions/sol4B.npy\", allow_pickle=True)\n",
    "print(sol[0])"
   ]
  }
 ],
 "metadata": {
  "kernelspec": {
   "display_name": "math-env",
   "language": "python",
   "name": "python3"
  },
  "language_info": {
   "codemirror_mode": {
    "name": "ipython",
    "version": 3
   },
   "file_extension": ".py",
   "mimetype": "text/x-python",
   "name": "python",
   "nbconvert_exporter": "python",
   "pygments_lexer": "ipython3",
   "version": "3.12.2"
  }
 },
 "nbformat": 4,
 "nbformat_minor": 2
}
