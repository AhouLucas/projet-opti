{
 "cells": [
  {
   "cell_type": "markdown",
   "metadata": {},
   "source": [
    "# Projet Optimisation - Partie 2\n",
    "---"
   ]
  },
  {
   "cell_type": "markdown",
   "metadata": {},
   "source": [
    "## Imports"
   ]
  },
  {
   "cell_type": "code",
   "execution_count": 1,
   "metadata": {},
   "outputs": [],
   "source": [
    "import sys\n",
    "import numpy as np\n",
    "np.set_printoptions(threshold=sys.maxsize) # To print more elements of an array in terminal\n",
    "import pandas as pd\n",
    "from scipy.optimize import linprog\n",
    "import matplotlib.pyplot as plt\n",
    "\n",
    "# For modelising more complex problems\n",
    "import cvxpy as cp"
   ]
  },
  {
   "cell_type": "markdown",
   "metadata": {},
   "source": [
    "## Parameters"
   ]
  },
  {
   "cell_type": "code",
   "execution_count": null,
   "metadata": {},
   "outputs": [],
   "source": []
  },
  {
   "cell_type": "markdown",
   "metadata": {},
   "source": [
    "## Datas"
   ]
  },
  {
   "cell_type": "code",
   "execution_count": 30,
   "metadata": {},
   "outputs": [],
   "source": [
    "# Loads dataframe\n",
    "sites_df = pd.read_csv('Data-partie-2/Sites.csv')\n",
    "offshore_df = pd.read_csv('Data-partie-2/Rendements_offshore.csv', header=None).to_numpy()\n",
    "onshore_df = pd.read_csv('Data-partie-2/Rendements_onshore.csv', header=None).to_numpy()\n",
    "\n",
    "# Get index of onshore and offshore sites and convert to numpy array\n",
    "offshore_idx = sites_df[sites_df['capacite offshore'] == 'Oui']['index site'].to_numpy(dtype=int)\n",
    "onshore_idx = sites_df[sites_df['capacite offshore'] == 'Non']['index site'].to_numpy(dtype=int)\n",
    "\n",
    "# Get number of sites (n) and number of hours in a year (m)\n",
    "n = sites_df.shape[0]\n",
    "m = offshore_df.shape[1]\n",
    "\n",
    "# Get max capacity of offshore and onshore sites\n",
    "max_capacity = np.zeros(n)\n",
    "max_capacity[offshore_idx] = sites_df[sites_df['capacite offshore'] == 'Oui']['capacites'].to_numpy(dtype=float)\n",
    "max_capacity[onshore_idx] = sites_df[sites_df['capacite offshore'] == 'Non']['capacites'].to_numpy(dtype=float)\n",
    "\n",
    "# Filter offshore and onshore dataframes\n",
    "offshore_df = offshore_df[offshore_idx, :]\n",
    "onshore_df = onshore_df[onshore_idx, :]\n",
    "rendements_on_off = np.zeros((n, m)) # Matrix that contains all the rendements of onshore and offshore sites at the correct indices\n",
    "rendements_on_off[offshore_idx, :] = offshore_df\n",
    "rendements_on_off[onshore_idx, :] = onshore_df\n",
    "rendements_on_off_3 = np.zeros((n,m//3))\n",
    "for k in range(rendements_on_off.shape[0]): # Regroup by 3 hours\n",
    "    rendements_on_off_3[k] = np.sum(rendements_on_off[k].reshape(-1,3), axis = 1)\n",
    "\n",
    "\n",
    "# Loads consumption and hydro production\n",
    "consumptions = np.sum(pd.read_csv('Data-partie-2/Consommations.csv', header=None).to_numpy(), axis = 0)\n",
    "consumptions_3 = np.sum(consumptions.reshape(-1,3),axis = 1) # Regroup by 3 hours\n",
    "hydro_productions = np.sum(pd.read_csv('Data-partie-2/Apports-hydro.csv', header=None).to_numpy(), axis = 0) \n",
    "hydro_productions_3 = np.sum(hydro_productions.reshape(-1,3),axis = 1) # Regroup by 3 hours\n",
    "\n",
    "# Costs\n",
    "onshore_install_cost = 168903 # [euro/MWh/year]\n",
    "offshore_install_cost = 300336 # [euro/MWh/year]\n",
    "\n",
    "gaz_install_cost = 94956 # [euro/MW/year]\n",
    "gaz_production_cost = 65 # [euro/MWh]\n",
    "\n",
    "# Country max stock per country [MWh]\n",
    "max_stock = np.sum(np.array([0.3*1e6 , 3.2*1e6 , 0.01*1e6 , 0 , 18.4*1e6 , 9.8*1e6 , 0.24*1e6 , 7.9*1e6 , 0.005*1e6 , 84.147*1e6 , 0 , 2.6*1e6 , 1.2*1e6 , 33.756*1e6 , 8.4*1e6]))\n",
    "\n",
    "# Max turbine and pump power per country [MW] \n",
    "max_turbine_power = np.sum(np.array([8587 , 12009 , 1417 , 9 , 18372 , 25132 , 527 , 21117 , 1140 , 28941 , 37 , 5052 , 4269 , 16637 , 15101]))*3\n",
    "max_pump_power = np.sum(np.array([5223 , 3580 , 1307 , 0 , 5347 , 4303 , 292 , 7544 , 1100 , 1396 , 0 , 1029 , 2744 , 45 , 1636 ]))*3\n",
    "\n",
    "# Turbine efficiency (eta)\n",
    "turbine_efficiency = 0.85"
   ]
  },
  {
   "cell_type": "markdown",
   "metadata": {},
   "source": [
    "## Question 4\n",
    "# Variables de décision\n",
    "$$\n",
    "\\begin{align*} \n",
    "c_i = \\text{Capacité éolienne installée sur le site i} \\quad \\forall i \\in \\{0, \\ldots, 641 \\} \\implies c \\in \\mathbb{R}^{642} \\\\\n",
    "t_j = \\text{Puissance de turbinage à la période j} \\quad \\forall j \\in \\{0, \\ldots, 2919\\} \\implies t \\in \\mathbb{R}^{2920}\\\\\n",
    "p_j = \\text{Puissance de pompage à la période j} \\quad \\forall j \\in \\{0, \\ldots, 2919 \\} \\implies p \\in \\mathbb{R}^{2920}\n",
    "\\end{align*}\n",
    "$$\n",
    "# Problème à résoudre\n",
    "$$\n",
    "\\begin{align*}\n",
    "\\min_{c, t, p} \\frac{\\sum_{offshore} c_i*300336 + \\sum_{onshore} c_i * 168903}{2920} \\\\\n",
    "\\text{tel que} \\\\\n",
    "\\text{(Capacité éolienne entre 0 et son max)} \\quad &0 \\leq c_i \\leq c_i^{max}  \\quad \\forall i \\in \\{0, \\ldots, 641 \\} \\\\\n",
    "\\text{(Le besoin de consommation est satisfait)} \\quad &\\sum_{i = 0}^{641} c_i e_i(j) + 0.85*t_j - p_j \\geq cons_j \\quad \\forall j \\in \\{0, \\ldots, 2919\\} \\\\\n",
    "\\text{(Physique du bassin, de base à 0.5 de capacité tot au début de la première période)} \\quad & 0 \\leq \\frac{max\\_stock}{2} + \\sum_{i = 0}^{j} \\left(p_i - t_i + a_i \\right) \\leq max\\_stock \\quad \\forall j \\in \\{0, \\ldots, 2918\\} \\\\\n",
    "\\text{(Contrainte de bilan nul du bassin)} \\quad &\\sum_{i = 0}^{2919} p_i - t_i + a_i = 0 \\\\\n",
    "\\text{(Contrainte de turbinage)} \\quad &0 \\leq t_j \\leq max\\_turbinage \\quad \\forall j \\in \\{0, \\ldots, 2919\\} \\\\\n",
    "\\text{(Contrainte de pompage)} \\quad &0 \\leq p_j \\leq max\\_pompage \\quad \\forall j \\in \\{0, \\ldots, 2919\\}\n",
    "\n",
    "\\end{align*}\n",
    "$$"
   ]
  },
  {
   "cell_type": "code",
   "execution_count": 33,
   "metadata": {},
   "outputs": [
    {
     "name": "stdout",
     "output_type": "stream",
     "text": [
      "optimal\n",
      "67947438.96239851\n"
     ]
    }
   ],
   "source": [
    "m = 2920 # Number of periods of 3 hours\n",
    "# Variable vectors\n",
    "c = cp.Variable(n)\n",
    "t = cp.Variable(m)\n",
    "p = cp.Variable(m)\n",
    "\n",
    "# Objective function\n",
    "costs = np.zeros(n)\n",
    "costs[onshore_idx] = onshore_install_cost\n",
    "costs[offshore_idx] = offshore_install_cost\n",
    "f = cp.Minimize(costs.T@c/(m))\n",
    "\n",
    "constraints = [\n",
    "    c >= 0,\n",
    "    c <= max_capacity,\n",
    "    c@rendements_on_off_3[:, 0:m] + 0.85*t - p >= consumptions_3[0:m],\n",
    "    0.5*max_stock + np.tri(m-1)@p[:-1] - np.tri(m-1)@t[:-1] + np.tri(m-1)@hydro_productions_3[0:m][:-1] <= max_stock,\n",
    "    0.5*max_stock + np.tri(m-1)@p[:-1] - np.tri(m-1)@t[:-1] + np.tri(m-1)@hydro_productions_3[0:m][:-1] >= 0,\n",
    "    np.ones(m)@p - np.ones(m)@t + np.ones(m)@hydro_productions_3[0:m] == 0,\n",
    "    p >= 0,\n",
    "    p <= max_pump_power,\n",
    "    t >= 0,\n",
    "    t <= max_turbine_power\n",
    "]\n",
    "problem = cp.Problem(f, constraints)\n",
    "\n",
    "problem.solve(solver=cp.CLARABEL)\n",
    "print(problem.status)\n",
    "print(problem.value)"
   ]
  },
  {
   "cell_type": "code",
   "execution_count": 49,
   "metadata": {},
   "outputs": [],
   "source": [
    "solc = np.array(c.value)"
   ]
  },
  {
   "cell_type": "code",
   "execution_count": 50,
   "metadata": {},
   "outputs": [],
   "source": [
    "soltp = np.stack((t.value, p.value))"
   ]
  },
  {
   "cell_type": "code",
   "execution_count": 51,
   "metadata": {},
   "outputs": [],
   "source": [
    "np.save(\"solutions/sol4B_C.npy\", solc)\n",
    "np.save(\"solutions/sol4B_TP.npy\", soltp)"
   ]
  },
  {
   "cell_type": "code",
   "execution_count": null,
   "metadata": {},
   "outputs": [],
   "source": []
  }
 ],
 "metadata": {
  "kernelspec": {
   "display_name": "math-env",
   "language": "python",
   "name": "python3"
  },
  "language_info": {
   "codemirror_mode": {
    "name": "ipython",
    "version": 3
   },
   "file_extension": ".py",
   "mimetype": "text/x-python",
   "name": "python",
   "nbconvert_exporter": "python",
   "pygments_lexer": "ipython3",
   "version": "3.11.9"
  }
 },
 "nbformat": 4,
 "nbformat_minor": 2
}
