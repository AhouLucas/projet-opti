{
 "cells": [
  {
   "cell_type": "markdown",
   "metadata": {},
   "source": [
    "# Projet Optimisation"
   ]
  },
  {
   "cell_type": "markdown",
   "metadata": {},
   "source": [
    "---\n",
    "## Question 1.B\n",
    "Dans cette section, nous implémentons et résolvons le première modèle de la question 1) à savoir :\n",
    "$$\n",
    "\\begin{align*}\n",
    "    \\max_{c_i, \\gamma} \\quad  \n",
    "    &\\gamma \\\\ \n",
    "    \\sum_{i=0}^{n-1} c_i &= P\\\\\n",
    "    \\sum_{\\text{\\tiny offshore}}c_i &= \\kappa P\\\\\n",
    "    \\gamma &\\le \\sum_{i=0}^{n-1} c_i e_i(t_j) \\quad \\forall j \\in \\{0, \\ldots, m-1\\}\\\\\n",
    "    0 &\\le \\, c_i \\, \\le c_i^{\\max} \\quad \\forall i \\in \\{0, \\ldots, n-1\\}\n",
    "\\end{align*}\n",
    "$$\n",
    "\n",
    "---"
   ]
  },
  {
   "cell_type": "code",
   "execution_count": null,
   "metadata": {},
   "outputs": [],
   "source": [
    "# Imports\n",
    "import sys\n",
    "import numpy as np\n",
    "np.set_printoptions(threshold=sys.maxsize) # To print more elements of an array in terminal\n",
    "import pandas as pd\n",
    "from scipy.optimize import linprog\n",
    "import matplotlib.pyplot as plt"
   ]
  },
  {
   "cell_type": "markdown",
   "metadata": {},
   "source": [
    "### Paramètres globaux"
   ]
  },
  {
   "cell_type": "code",
   "execution_count": null,
   "metadata": {},
   "outputs": [],
   "source": [
    "P = 500_000\n",
    "kappa = 0.17\n",
    "T = 3\n",
    "delta = 0.02"
   ]
  },
  {
   "cell_type": "markdown",
   "metadata": {},
   "source": [
    "### Lecture des données"
   ]
  },
  {
   "cell_type": "code",
   "execution_count": null,
   "metadata": {},
   "outputs": [],
   "source": [
    "# Loads dataframe\n",
    "sites_df = pd.read_csv('Data-partie-1/Sites.csv')\n",
    "offshore_df = pd.read_csv('Data-partie-1/Rendements_offshore.csv', header=None).to_numpy()\n",
    "onshore_df = pd.read_csv('Data-partie-1/Rendements_onshore.csv', header=None).to_numpy()\n",
    "\n",
    "# Get index of onshore and offshore sites and convert to numpy array\n",
    "offshore_idx = sites_df[sites_df['capacite offshore'] == 'Oui']['index site'].to_numpy(dtype=int)\n",
    "onshore_idx = sites_df[sites_df['capacite offshore'] == 'Non']['index site'].to_numpy(dtype=int)\n",
    "\n",
    "# Get number of sites (n) and number of hours in a year (m)\n",
    "n = sites_df.shape[0]\n",
    "m = offshore_df.shape[1]\n",
    "\n",
    "# Get max capacity of offshore and onshore sites\n",
    "max_capacity = np.zeros(n)\n",
    "max_capacity[offshore_idx] = sites_df[sites_df['capacite offshore'] == 'Oui']['capacites'].to_numpy(dtype=float)\n",
    "max_capacity[onshore_idx] = sites_df[sites_df['capacite offshore'] == 'Non']['capacites'].to_numpy(dtype=float)\n",
    "\n",
    "# Filter offshore and onshore dataframes\n",
    "offshore_df = offshore_df[offshore_idx, :]\n",
    "onshore_df = onshore_df[onshore_idx, :]\n",
    "rendements_on_off = np.zeros((n, m)) # Matrix that contains all the rendements of onshore and offshore sites at the correct indices\n",
    "rendements_on_off[offshore_idx, :] = offshore_df\n",
    "rendements_on_off[onshore_idx, :] = onshore_df"
   ]
  },
  {
   "cell_type": "markdown",
   "metadata": {},
   "source": [
    "### Modélisation"
   ]
  },
  {
   "cell_type": "code",
   "execution_count": null,
   "metadata": {},
   "outputs": [],
   "source": [
    "# Create A_eq matrix\n",
    "A_eq = np.zeros((2, n+1))\n",
    "A_eq[0, :-1] = np.ones(n) # Sum of all c_i = P\n",
    "A_eq[1, offshore_idx] = 1 # Sum of all c_i for offshore sites = k*P\n",
    "\n",
    "# Create b_eq matrix\n",
    "b_eq = np.zeros(2)\n",
    "b_eq[0] = P\n",
    "b_eq[1] = kappa*P\n",
    "\n",
    "# Create A_ub matrix\n",
    "A_ub = np.ones((m, n+1))\n",
    "A_ub[:, :-1] = -rendements_on_off.T # Gamma constraint\n",
    "\n",
    "# Create b_ub matrix\n",
    "b_ub = np.zeros(m)\n",
    "\n",
    "# Create bounds for c_i\n",
    "bounds = [(0, None) for i in range(n+1)]\n",
    "# bounds[-1] = (None, None)\n",
    "for i in offshore_idx:\n",
    "    bounds[i] = (0, max_capacity[i])\n",
    "for i in onshore_idx:\n",
    "    bounds[i] = (0, max_capacity[i])\n",
    "\n",
    "# Create variable array\n",
    "objective_function = np.zeros(n+1)\n",
    "objective_function[-1] = -1"
   ]
  },
  {
   "cell_type": "markdown",
   "metadata": {},
   "source": [
    "### Résolution du modèle"
   ]
  },
  {
   "cell_type": "code",
   "execution_count": null,
   "metadata": {},
   "outputs": [],
   "source": [
    "# Solve linear program\n",
    "sol = linprog(c=objective_function, A_eq=A_eq, b_eq=b_eq, A_ub=A_ub, b_ub=b_ub, bounds=bounds)\n",
    "np.save('Data-partie-1/solution_Q1.npy', sol.x)\n",
    "print(sol.x[sol.x != 0].shape)"
   ]
  },
  {
   "cell_type": "markdown",
   "metadata": {},
   "source": [
    "### Mesure de performances"
   ]
  },
  {
   "cell_type": "code",
   "execution_count": null,
   "metadata": {},
   "outputs": [],
   "source": [
    "import time\n",
    "n_exec = 100\n",
    "execution_time = np.zeros(n_exec)\n",
    "for i in range(n_exec):\n",
    "    start = time.time()\n",
    "    sol = linprog(c=objective_function, A_eq=A_eq, b_eq=b_eq, A_ub=A_ub, b_ub=b_ub, bounds=bounds)\n",
    "    end = time.time()\n",
    "    execution_time[i] = end - start\n",
    "\n",
    "plt.plot(np.arange(n_exec), execution_time)\n",
    "plt.axhline(np.mean(execution_time), color='r', linestyle='--', label='Average execution time')\n",
    "plt.xlabel('Iteration')\n",
    "plt.ylabel('Execution time (s)')\n",
    "plt.title('Execution time')\n",
    "plt.legend()\n",
    "plt.savefig('Graphes/Graphes_Q1/execution_time.pdf', format='pdf', bbox_inches='tight', pad_inches=0)\n",
    "\n",
    "print(f'Average execution time: {np.mean(execution_time)}')\n"
   ]
  },
  {
   "cell_type": "markdown",
   "metadata": {},
   "source": [
    "## Visualisation du résultat obtenu\n",
    "---"
   ]
  },
  {
   "cell_type": "markdown",
   "metadata": {},
   "source": [
    "### Calcul de l'énergie produite"
   ]
  },
  {
   "cell_type": "code",
   "execution_count": null,
   "metadata": {},
   "outputs": [],
   "source": [
    "# Load solution\n",
    "sol = np.load('Data-partie-1/solution_Q1.npy')\n",
    "\n",
    "# Compute energy produced per hour\n",
    "energy_produced = np.zeros(m)\n",
    "for i in range(m):\n",
    "    energy_produced[i] += sol[offshore_idx]@offshore_df[:, i]\n",
    "    energy_produced[i] += sol[onshore_idx]@onshore_df[:, i]\n",
    "\n",
    "# Plot energy produced over time\n",
    "t = np.arange(1, m+1)\n",
    "fig = plt.figure(figsize=(10, 5))\n",
    "plt.title('Total energy produced over time')\n",
    "plt.plot(t, energy_produced/1e3)\n",
    "plt.xlabel('Time [h]')\n",
    "plt.ylabel('Energy produced [GWh]')\n",
    "plt.grid(alpha=0.3)\n",
    "plt.savefig('Graphes/Graphes_Q1/energy_produced.pdf', format='pdf', bbox_inches='tight', pad_inches=0)\n",
    "\n",
    "# Compute total energy produced\n",
    "total_energy_produced = np.sum(energy_produced)\n",
    "print('Total energy produced:', total_energy_produced/1e3, '[GWh]')"
   ]
  },
  {
   "cell_type": "markdown",
   "metadata": {},
   "source": [
    "### Calcul du rendement"
   ]
  },
  {
   "cell_type": "code",
   "execution_count": null,
   "metadata": {},
   "outputs": [],
   "source": [
    "# Load solution\n",
    "sol = np.load('Data-partie-1/solution_Q1.npy')\n",
    "\n",
    "# Compute energy produced per hour\n",
    "energy_produced = np.zeros(m)\n",
    "for i in range(m):\n",
    "    energy_produced[i] += sol[offshore_idx]@offshore_df[:, i]\n",
    "    energy_produced[i] += sol[onshore_idx]@onshore_df[:, i]\n",
    "\n",
    "# Plots efficiency over time (ratio between energy produced and maximum energy producible)\n",
    "efficiency = energy_produced / P * 100\n",
    "average_efficiency = np.mean(efficiency)\n",
    "t = np.arange(1, m+1)\n",
    "fig = plt.figure(figsize=(10, 5))\n",
    "plt.title('Efficiency over time')\n",
    "plt.plot(t, efficiency)\n",
    "plt.axhline(y=average_efficiency, color='r', linestyle='--', label='Average efficiency')\n",
    "plt.xlabel('Time [h]')\n",
    "plt.ylabel('Efficiency [%]')\n",
    "plt.grid(alpha=0.3)\n",
    "plt.legend()\n",
    "plt.savefig('Graphes/Graphes_Q1/efficiency.pdf', format='pdf', bbox_inches='tight', pad_inches=0)\n",
    "\n",
    "print('Average efficiency :', average_efficiency, '[%]')"
   ]
  },
  {
   "cell_type": "markdown",
   "metadata": {},
   "source": [
    "### Répartition de la puissance installée sur les différents sites"
   ]
  },
  {
   "cell_type": "code",
   "execution_count": null,
   "metadata": {},
   "outputs": [],
   "source": [
    "import geopandas as gpd\n",
    "from shapely.geometry import Polygon\n",
    "\n",
    "data_dir = 'ref-nuts-2021-01m/'\n",
    "path_rg = data_dir + \"NUTS_RG_01M_2021_4326_LEVL_0.json\"\n",
    "gdf_rg = gpd.read_file(path_rg)\n",
    "path_bn = data_dir + \"NUTS_BN_01M_2021_4326_LEVL_0.json\"\n",
    "gdf_bn = gpd.read_file(path_bn)\n",
    "path_lb = data_dir + \"NUTS_LB_2021_4326_LEVL_0.json\"\n",
    "gdf_lb = gpd.read_file(path_lb)\n",
    "\n",
    "\n",
    "def make_bbox(long0, lat0, long1, lat1):\n",
    "    return Polygon([[long0, lat0],\n",
    "                    [long1,lat0],\n",
    "                    [long1,lat1],\n",
    "                    [long0, lat1]])\n",
    "\n",
    "bbox = make_bbox(-10,30,30,75)\n",
    "bbox_gdf = gpd.GeoDataFrame(index=[0], geometry = [bbox], crs=gdf_rg.crs)\n",
    "\n",
    "gdf_rg = gdf_rg.overlay(bbox_gdf, how=\"intersection\")\n",
    "\n",
    "gdf_rg.plot(color='lightsteelblue', alpha=0.7, edgecolor='white', figsize=(10,10))\n",
    "\n",
    "# Plot capacities as circles\n",
    "\n",
    "sol = np.load('Data-partie-1/solution_Q1.npy')\n",
    "\n",
    "max_capacities = np.max(sol[:-1])\n",
    "min_capacities = np.min(sol[sol > 0][:-1])\n",
    "\n",
    "cm = plt.get_cmap('coolwarm')\n",
    "cNorm = plt.Normalize(vmin=min_capacities, vmax=max_capacities)\n",
    "scalarMap = plt.cm.ScalarMappable(norm=cNorm, cmap=cm)\n",
    "\n",
    "for i in range(n):\n",
    "    site = sites_df[sites_df['index site'] == i].iloc[0]\n",
    "    if sol[i] > 0:\n",
    "        capacity = sol[i]\n",
    "        marker_size = 250*capacity/max_capacities\n",
    "        plt.scatter(site['longitude'], site['latitude'], c=capacity, vmin=min_capacities, vmax=max_capacities, cmap=cm, s=marker_size, alpha=0.7, edgecolors='black')\n",
    "    else:\n",
    "        plt.scatter(site['longitude'], site['latitude'], c='black', marker='x', s=15, alpha=0.3)\n",
    "\n",
    "\n",
    "ax, fig = plt.gca(), plt.gcf()\n",
    "plt.title(\"Capacity distribution of sites\")\n",
    "plt.colorbar(scalarMap, label='Capacity [MW]', shrink=0.65, ax=ax)\n",
    "plt.xlabel('Longitude [°]')\n",
    "plt.ylabel('Latitude [°]')\n",
    "plt.grid(alpha=0.3, which='major')\n",
    "plt.grid(alpha=0.1, which='minor')\n",
    "plt.minorticks_on()\n",
    "plt.savefig('Graphes/Graphes_Q1/capacity_distribution.pdf', format='pdf', bbox_inches='tight', pad_inches=0)"
   ]
  },
  {
   "cell_type": "markdown",
   "metadata": {},
   "source": [
    "## Question 1.C\n",
    "Pour trouver le dual, il est plus simple de remettre le problème de la question 1.B sous la forme :\n",
    "$$\n",
    "\\begin{align*}\n",
    "\\max c^T x\\\\\n",
    "Ax &\\le b\\\\\n",
    "x &\\ge 0\n",
    "\\end{align*}\n",
    "$$\n",
    "car le dual est alors simplement :\n",
    "$$\n",
    "\\begin{align*}\n",
    "\\min b^Ty\\\\\n",
    "A^Ty &\\ge c\\\\\n",
    "y &\\ge 0\n",
    "\\end{align*}\n",
    "$$\n",
    "Ici, nous mettons d'abord les contraintes liées aux $c_i^{\\max}$ afin que les $n-1$ premières variables duales soient associées à celles-ci."
   ]
  },
  {
   "cell_type": "code",
   "execution_count": null,
   "metadata": {},
   "outputs": [],
   "source": [
    "# Create A_ub matrix\n",
    "A_ub = np.zeros((n + m + 4,n+1)) # n constraints for c_i, m constraints for gamma and 4 constraints for the two equality\n",
    "\n",
    "A_ub[:n, :n] = np.eye(n) # c_i\n",
    "\n",
    "A_ub[n:n+m, :-1] = -rendements_on_off.T # gamma\n",
    "A_ub[n:n+m, -1] = 1 # Stil gamma...\n",
    "\n",
    "A_ub[n+m,:] = 1 # Sum of c_i <= P\n",
    "A_ub[n+m+1,:] = -1 # - Sum of c_i <= -P\n",
    "\n",
    "A_ub[n+m+2,offshore_idx] = 1 # Sum of offshore <= kP\n",
    "A_ub[n+m+3,offshore_idx] = -1 # - Sum of offshore <= -kP\n",
    "\n",
    "# Create b vector\n",
    "b_ub = np.zeros(n + m + 4)\n",
    "b_ub[:n] = max_capacity\n",
    "b_ub[n:n+m] = 0\n",
    "b_ub[n+m] = P\n",
    "b_ub[n+m+1] = -P\n",
    "b_ub[n+m+2] = kappa*P\n",
    "b_ub[n+m+3] = -kappa*P\n",
    "\n",
    "# Create objective function\n",
    "objective_function = np.zeros(n+1)\n",
    "objective_function[-1] = 1"
   ]
  },
  {
   "cell_type": "markdown",
   "metadata": {},
   "source": [
    "### Résolution du dual"
   ]
  },
  {
   "cell_type": "code",
   "execution_count": null,
   "metadata": {},
   "outputs": [],
   "source": [
    "bounds = [(0, None) for i in range(n+m+4)]\n",
    "sol = linprog(c=b_ub, A_ub=-A_ub.T, b_ub=-objective_function, bounds=bounds)\n",
    "np.save(\"Data-partie-1/solution_Q1C.npy\", arr=sol.x, allow_pickle=True)"
   ]
  },
  {
   "cell_type": "markdown",
   "metadata": {},
   "source": [
    "### Top 10 des sites les plus rentables"
   ]
  },
  {
   "cell_type": "code",
   "execution_count": null,
   "metadata": {},
   "outputs": [],
   "source": [
    "# Gets indices of the 10 best sites\n",
    "sol = np.load(\"Data-partie-1/solution_Q1C.npy\")\n",
    "sol = sol[:n] # Keep only the y variable associated to the c_max constraints\n",
    "best10_indices = np.argsort(sol)[::-1] # Sort indices with respect to value in increasing order and reverse the array with [::-1]\n",
    "best10_indices = best10_indices[:10]\n",
    "print(sorted(best10_indices))\n",
    "\n",
    "# Find the sites with best average efficiency during the course of a year \n",
    "bestAverageEfficiency = np.sum(rendements_on_off, axis=1)\n",
    "bestAverageEfficiency = np.argsort(bestAverageEfficiency)[::-1]\n",
    "bestAverageEfficiency = bestAverageEfficiency[:10]\n",
    "print(sorted(bestAverageEfficiency))"
   ]
  },
  {
   "cell_type": "markdown",
   "metadata": {},
   "source": [
    "---\n",
    "## Question 2.A\n",
    "Dans cette seconde question, il est maintenant possible d'acheter de l'énergie en plus de celle produite par les éoliennes. Cependant, nous pouvons acheter qu'une quantité limitée $E_{max}$. En introduisant, $m$ nouvelles variables $a_j$ correspondant à la quantité d'énergie achetée en chaque heure de l'année, le modèle devient le suivant :\n",
    "\n",
    "$$\n",
    "\\begin{align*}\n",
    "    \\max_{c_i, a_j, \\gamma} \\quad  &\\gamma \\\\ \n",
    "    \\sum_{i=0}^{n-1} c_i &= P\\\\\n",
    "    \\sum_{\\text{\\tiny offshore}}c_i &= \\kappa P\\\\\n",
    "    \\gamma &\\le \\sum_{i=0}^{n-1} c_i e_i(t_j) + a_j \\quad \\forall j \\in \\{0, \\ldots, m-1\\}\\\\\n",
    "    \\sum _{j=0}^{m-1} a_j &\\le E_{\\text{max}}\\\\\n",
    "    0 &\\le \\, c_i \\, \\le c_i^{\\max} \\quad \\forall i \\in \\{0, \\ldots, n-1\\}\\\\\n",
    "    a_j &\\ge 0 \\quad \\forall j \\in \\{0, \\ldots, m-1\\}\n",
    "\\end{align*}\n",
    "$$\n",
    "\n",
    "Pour cette section, le vecteur des variables de décisions est le vecteur contenant d'abord tous les $c_i$, ensuite tous les $a_j$ et enfin la variable $\\gamma$ :\n",
    "$$x = (c_0, \\ldots, c_{n-1}, a_0, \\ldots, a_{m-1}, \\gamma)$$\n",
    "\n",
    "---"
   ]
  },
  {
   "cell_type": "markdown",
   "metadata": {},
   "source": [
    "### Paramètres 2.A"
   ]
  },
  {
   "cell_type": "code",
   "execution_count": null,
   "metadata": {},
   "outputs": [],
   "source": [
    "E_max_step = 1e8\n",
    "E_min, E_max = 0, 1e9\n",
    "E_max_range = np.arange(E_min, E_max, E_max_step)"
   ]
  },
  {
   "cell_type": "markdown",
   "metadata": {},
   "source": [
    "### Modélisation"
   ]
  },
  {
   "cell_type": "code",
   "execution_count": null,
   "metadata": {},
   "outputs": [],
   "source": [
    "# Create A_eq matrix\n",
    "A_eq = np.zeros((2, n+m+1))\n",
    "A_eq[0, :n] = np.ones(n) # Sum of all c_i = P\n",
    "A_eq[1, offshore_idx] = 1 # Sum of all c_i for offshore sites = k*P\n",
    "\n",
    "# Create b_eq vector\n",
    "b_eq = np.zeros(2)\n",
    "b_eq[0] = P\n",
    "b_eq[1] = kappa*P\n",
    "\n",
    "# Create A_ub matrix\n",
    "A_ub = np.zeros((m+1, n+m+1)) # m constraints for gamma and 1 constraint for the sum of a_j\n",
    "A_ub[:m, :n] = -rendements_on_off.T # c_i\n",
    "A_ub[:m, n:n+m] = -np.eye(m) # a_j\n",
    "A_ub[:m, -1] = 1 # gamma\n",
    "A_ub[-1, n:n+m] = 1 # sum of a_j\n",
    "\n",
    "# Create b_ub vector\n",
    "b_ub = np.zeros(m+1)\n",
    "b_ub[:m] = 0\n",
    "b_ub[-1] = None # Change that by corresponding E_max value within the range E_max_range\n",
    "\n",
    "# c_i and a_j bounds\n",
    "bounds = [(0, None) for i in range(n+m+1)]\n",
    "for i in offshore_idx:\n",
    "    bounds[i] = (0, max_capacity[i])\n",
    "for i in onshore_idx:\n",
    "    bounds[i] = (0, max_capacity[i])\n",
    "\n",
    "for i in range(n, n+m):\n",
    "    bounds[i] = (0, None)\n",
    "\n",
    "objective_function = np.zeros(n+m+1)\n",
    "objective_function[-1] = -1"
   ]
  },
  {
   "cell_type": "markdown",
   "metadata": {},
   "source": [
    "### Résolution du modèle"
   ]
  },
  {
   "cell_type": "code",
   "execution_count": null,
   "metadata": {},
   "outputs": [],
   "source": [
    "solutions_matrix = np.zeros((E_max_range.shape[0], n+m+1))\n",
    "\n",
    "# Solve linear program\n",
    "for i, E in enumerate(E_max_range):\n",
    "    b_ub[-1] = E\n",
    "    sol = linprog(c=objective_function, A_eq=A_eq, b_eq=b_eq, A_ub=A_ub, b_ub=b_ub, bounds=bounds)\n",
    "    solutions_matrix[i] = sol.x\n",
    "\n",
    "# Save solutions and E_max_range\n",
    "np.save(\"Data-partie-1/solution_Q2\", solutions_matrix)\n",
    "np.save(\"Data-partie-1/E_max_range_Q2\", E_max_range)"
   ]
  },
  {
   "cell_type": "markdown",
   "metadata": {},
   "source": [
    "### Représentation graphique des solutions"
   ]
  },
  {
   "cell_type": "code",
   "execution_count": null,
   "metadata": {},
   "outputs": [],
   "source": [
    "solutions = np.load(\"Data-partie-1/solution_Q2.npy\")\n",
    "E_max_range = np.load(\"Data-partie-1/E_max_range_Q2.npy\")\n",
    "\n",
    "fig = plt.figure(figsize=(10, 5))\n",
    "plt.plot(E_max_range, solutions[:, -1])\n",
    "plt.xlabel('Total energy bought [MWh]')\n",
    "plt.ylabel('Minimal energy produced per hour over the year [MWh]')\n",
    "plt.title('Minimal energy produced per hour over the year as a function of total energy bought')\n",
    "plt.grid(alpha=0.3)\n",
    "plt.savefig('Graphes/Graphes_Q2/minimal_energy_produced.pdf', format='pdf', bbox_inches='tight', pad_inches=0)"
   ]
  },
  {
   "cell_type": "markdown",
   "metadata": {},
   "source": [
    "### Valeur d'énergie à acheter la plus intéressante"
   ]
  },
  {
   "cell_type": "code",
   "execution_count": null,
   "metadata": {},
   "outputs": [],
   "source": [
    "solutions = np.load(\"Data-partie-1/solution_Q2.npy\")\n",
    "E_max_range = np.load(\"Data-partie-1/E_max_range_Q2.npy\")\n",
    "\n",
    "# Selects the value at which there is a change in slope\n",
    "slope = np.zeros(E_max_range.shape[0])\n",
    "for i in range(1, E_max_range.shape[0]):\n",
    "    slope[i] = solutions[i, -1] - solutions[i-1, -1]\n",
    "    slope[i] = slope[i] / E_max_step\n",
    "\n",
    "plt.plot(E_max_range, slope)\n",
    "plt.xlabel('Total energy bought [MWh]')\n",
    "plt.ylabel('Increase in minimal energy [MWh]')\n",
    "plt.axvline(x=E_max_range[np.argmax(slope)], color='r', linestyle='--', label='Change in slope')\n",
    "print(E_max_range[np.argmax(slope)])\n",
    "plt.title('Increase in minimal energy produced per hour over the year as a function of total energy bought')\n",
    "plt.grid(alpha=0.3)\n",
    "plt.savefig('Graphes/Graphes_Q2/increase_minimal_energy_produced.pdf', format='pdf', bbox_inches='tight', pad_inches=0)\n",
    "plt.show()"
   ]
  },
  {
   "cell_type": "markdown",
   "metadata": {},
   "source": [
    "### Graphes de l'énergie produite et achetée en fonction du temps"
   ]
  },
  {
   "cell_type": "code",
   "execution_count": null,
   "metadata": {},
   "outputs": [],
   "source": [
    "import matplotlib.pylab as pl\n",
    "import matplotlib.gridspec as gridspec\n",
    "\n",
    "# The higher the better, so we take the last value\n",
    "sol = np.load('Data-partie-1/solution_Q2.npy')\n",
    "E_max_range = np.load('Data-partie-1/E_max_range_Q2.npy')\n",
    "\n",
    "slope = np.zeros(E_max_range.shape[0])\n",
    "for i in range(1, E_max_range.shape[0]):\n",
    "    slope[i] = sol[i, -1] - sol[i-1, -1]\n",
    "    slope[i] = slope[i] / E_max_step\n",
    "\n",
    "E_max = E_max_range[np.argmax(slope)]\n",
    "sol = sol[np.argmax(slope)]\n",
    "\n",
    "\n",
    "# Compute energy produced per hour\n",
    "energy_produced = np.zeros(m)\n",
    "for i in range(m):\n",
    "    energy_produced[i] += sol[offshore_idx]@offshore_df[:, i]\n",
    "    energy_produced[i] += sol[onshore_idx]@onshore_df[:, i]\n",
    "\n",
    "# Creates three subplots : \n",
    "# 1. Energy produced over time\n",
    "# 2. Energy bought at each time\n",
    "# 3. Total energy produced and bought over time\n",
    "\n",
    "t = np.arange(1, m+1)\n",
    "fig = plt.figure(figsize=(15, 10))\n",
    "gs = gridspec.GridSpec(2, 2)\n",
    "\n",
    "# Energy produced over time\n",
    "ax = fig.add_subplot(gs[0, 0])\n",
    "ax.plot(t, energy_produced/1e3)\n",
    "ax.set_title('Wind turbine energy production over time')\n",
    "ax.set_xlabel('Time [h]')\n",
    "ax.set_ylabel('Energy produced [GWh]')\n",
    "ax.set_ylim(0, 1.1*np.max(energy_produced/1e3))\n",
    "ax.grid(alpha=0.3)\n",
    "\n",
    "# Energy bought at each time\n",
    "energy_bought = sol[n:n+m]\n",
    "ax = fig.add_subplot(gs[0, 1])\n",
    "ax.plot(t, energy_bought/1e3)\n",
    "ax.set_title('Energy bought over time')\n",
    "ax.set_xlabel('Time [h]')\n",
    "ax.set_ylabel('Energy bought [GWh]')\n",
    "ax.set_ylim(0, 1.1*np.max(energy_produced/1e3))\n",
    "ax.grid(alpha=0.3)\n",
    "\n",
    "# Total energy produced and bought over time\n",
    "ax = fig.add_subplot(gs[1, :])\n",
    "ax.plot(t, (energy_produced + energy_bought)/1e3, label='Total energy produced')\n",
    "ax.set_title('Total energy produced and bought over time')\n",
    "ax.set_xlabel('Time [h]')\n",
    "ax.set_ylabel('Energy [GWh]')\n",
    "ax.set_ylim(0, 1.1*np.max(energy_produced/1e3))\n",
    "ax.grid(alpha=0.3)\n",
    "\n",
    "plt.savefig('Graphes/Graphes_Q2/energy_produced_and_bought.pdf', format='pdf', bbox_inches='tight', pad_inches=0)"
   ]
  },
  {
   "cell_type": "code",
   "execution_count": null,
   "metadata": {},
   "outputs": [],
   "source": []
  },
  {
   "cell_type": "markdown",
   "metadata": {},
   "source": [
    "---\n",
    "## Question 3\n",
    "$$\n",
    "\\begin{align*}\n",
    "    \\max_{c_i} \\quad  \n",
    "    &\\sum_{j = 0}^{m-1} \\sum_{i = 0}^{n-1} c_i e_i(t_j) \\\\ \n",
    "    \\sum_{i=0}^{n-1} c_i &= P\\\\\n",
    "    \\sum_{\\text{\\tiny offshore}}c_i &= \\kappa P\\\\\n",
    "    \\left( \\frac{\\sum_{k = 0}^{\\frac{m}{T} - 2} \\Delta_k }{\\frac{m}{T} - 1}\\right) &\\leq \\delta PT\\\\\n",
    "    0 &\\le \\, c_i \\, \\le c_i^{\\max} \\quad \\forall i \\in \\{0, \\ldots, n-1\\}\n",
    "\\end{align*}\n",
    "$$\n",
    "où pour tout $k \\in \\{0, \\ldots, \\frac{m}{T} - 2\\}$, nous notons :\n",
    "$$\n",
    "\\begin{align*}\n",
    "\\epsilon_k &= \\sum_{j = kT}^{(k+1)T - 1} \\sum_{i = 0}^{n-1} c_i e_i(t_j) = \\sum_{i=0}^{n-1} c_i \\sum_{j = kT}^{(k+1)T - 1} e_i(t_j)\\\\\n",
    "\\Delta_k &= | \\epsilon_{k+1} - \\epsilon_k |\n",
    "\\end{align*}\n",
    "$$\n",
    "Nous pouvons également reformuler l'objectif : \n",
    "$$\n",
    "\\sum_{j = 0}^{m-1} \\sum_{i = 0}^{n-1} c_i e_i(t_j) = \\sum_{i=0}^{n-1} c_i \\sum_{j = 0}^{m - 1} e_i(t_j)\n",
    "$$\n",
    "Toutefois, les valeurs absolues posent problème car les contraintes ne sont plus linéaires.\n",
    "Pour linéariser les contraintes, nous pouvons introduire les $\\Delta_k$ comme des nouvelles variables et imposer pour chacune des ces variables :\n",
    "$$\n",
    "\\begin{align*}\n",
    "\\Delta_k &\\ge \\epsilon_{k+1} - \\epsilon_k\\\\\n",
    "\\Delta_k &\\ge \\epsilon_k - \\epsilon_{k+1}\n",
    "\\end{align*}\n",
    "$$\n",
    "Notre modèle devient donc :\n",
    "$$\n",
    "\\begin{align*}\n",
    "    \\max_{c_i, \\Delta_k} \\quad  \n",
    "    &\\sum_{i=0}^{n-1} c_i \\sum_{j = 0}^{m - 1} e_i(t_j) \\\\ \n",
    "    \\sum_{i=0}^{n-1} c_i &= P\\\\\n",
    "    \\sum_{\\text{\\tiny offshore}}c_i &= \\kappa P\\\\\n",
    "    \\left( \\frac{\\sum_{k = 0}^{\\frac{m}{T} - 2} \\Delta_k }{\\frac{m}{T} - 1}\\right) &\\leq \\delta PT\\\\\n",
    "    \\Delta_k &\\ge \\epsilon_{k+1} - \\epsilon_k \\quad \\forall k \\in \\{ 0, \\ldots, \\frac{m}{T} - 2 \\}\\\\\n",
    "    \\Delta_k &\\ge \\epsilon_k - \\epsilon_{k+1}\\\\\n",
    "    0 &\\le \\, c_i \\, \\le c_i^{\\max} \\quad \\forall i \\in \\{0, \\ldots, n-1\\}\n",
    "\\end{align*}\n",
    "$$"
   ]
  },
  {
   "cell_type": "code",
   "execution_count": null,
   "metadata": {},
   "outputs": [],
   "source": [
    "num_period = m//T\n",
    "\n",
    "# Create A_eq matrix\n",
    "A_eq = np.zeros((2, n + num_period - 1))\n",
    "A_eq[0, :n] = 1 # sum of c_i = P\n",
    "A_eq[1, offshore_idx] = 1 # sum of offshore = k*P\n",
    "\n",
    "# Create b_eq vector\n",
    "b_eq = np.zeros(2)\n",
    "b_eq[0] = P\n",
    "b_eq[1] = kappa*P\n",
    "\n",
    "# Create A_ub matrix\n",
    "A_ub = np.zeros((2*(num_period-1) + 1, n + num_period - 1))\n",
    "A_ub[0, n:] = 1/(m/T - 1) # Average of variance\n",
    "\n",
    "for k in range(1, num_period):\n",
    "    # sum c_i * [sum e_i - sum e_i]\n",
    "    A_ub[k, :n] = np.sum(rendements_on_off[:, (k+1)*T:(k+2)*T], axis=1) - np.sum(rendements_on_off[:, k*T:(k+1)*T], axis=1)\n",
    "    A_ub[k, n+k-1] = -1 # ... - Delta_k <= 0\n",
    "\n",
    "    A_ub[k + num_period-1, :n] = -A_ub[k, :n]\n",
    "    A_ub[k + num_period-1, n+k-1] = -1\n",
    "\n",
    "# Create b_ub vector\n",
    "b_ub = np.zeros(2*(num_period-1) + 1)\n",
    "b_ub[0] = delta*P*T\n",
    "\n",
    "# Create bounds for c_i\n",
    "bounds = [(None, None) for i in range(n + num_period - 1)]\n",
    "\n",
    "for i in offshore_idx:\n",
    "    bounds[i] = (0, max_capacity[i])\n",
    "for i in onshore_idx:\n",
    "    bounds[i] = (0, max_capacity[i])\n",
    "\n",
    "\n",
    "# Create objective function\n",
    "objective_function = np.zeros(n + num_period - 1)\n",
    "objective_function[:n] = -np.sum(rendements_on_off, axis=1)"
   ]
  },
  {
   "cell_type": "code",
   "execution_count": null,
   "metadata": {},
   "outputs": [],
   "source": [
    "# Solve linear program\n",
    "sol = linprog(c=objective_function, A_eq=A_eq, b_eq=b_eq, A_ub=A_ub, b_ub=b_ub, bounds=bounds)\n",
    "np.save('Data-partie-1/solution_Q3.npy', sol.x)\n",
    "print(sol)"
   ]
  },
  {
   "cell_type": "code",
   "execution_count": null,
   "metadata": {},
   "outputs": [],
   "source": [
    "sol = np.load(\"Data-partie-1/solution_Q3.npy\", allow_pickle=True)\n",
    "print(sol[:n][sol[:n] != 0].shape)\n",
    "solcap = sol[:n]"
   ]
  },
  {
   "cell_type": "markdown",
   "metadata": {},
   "source": [
    "### Carte de la distribution des sites"
   ]
  },
  {
   "cell_type": "code",
   "execution_count": null,
   "metadata": {},
   "outputs": [],
   "source": [
    "data_dir = 'ref-nuts-2021-01m/'\n",
    "path_rg = data_dir + \"NUTS_RG_01M_2021_4326_LEVL_0.json\"\n",
    "gdf_rg = gpd.read_file(path_rg)\n",
    "path_bn = data_dir + \"NUTS_BN_01M_2021_4326_LEVL_0.json\"\n",
    "gdf_bn = gpd.read_file(path_bn)\n",
    "path_lb = data_dir + \"NUTS_LB_2021_4326_LEVL_0.json\"\n",
    "gdf_lb = gpd.read_file(path_lb)\n",
    "\n",
    "\n",
    "def make_bbox(long0, lat0, long1, lat1):\n",
    "    return Polygon([[long0, lat0],\n",
    "                    [long1,lat0],\n",
    "                    [long1,lat1],\n",
    "                    [long0, lat1]])\n",
    "\n",
    "bbox = make_bbox(-10,30,30,75)\n",
    "bbox_gdf = gpd.GeoDataFrame(index=[0], geometry = [bbox], crs=gdf_rg.crs)\n",
    "\n",
    "gdf_rg = gdf_rg.overlay(bbox_gdf, how=\"intersection\")\n",
    "\n",
    "gdf_rg.plot(color='lightsteelblue', alpha=0.7, edgecolor='white', figsize=(10,10))\n",
    "\n",
    "# Plot capacities as circles\n",
    "\n",
    "sol = np.load(\"Data-partie-1/solution_Q3.npy\", allow_pickle=True)\n",
    "solcap = sol[:n]\n",
    "\n",
    "max_capacities = np.max(solcap[:-1])\n",
    "min_capacities = np.min(solcap[solcap > 0][:-1])\n",
    "\n",
    "cm = plt.get_cmap('coolwarm')\n",
    "cNorm = plt.Normalize(vmin=min_capacities, vmax=max_capacities)\n",
    "scalarMap = plt.cm.ScalarMappable(norm=cNorm, cmap=cm)\n",
    "\n",
    "for i in range(n):\n",
    "    site = sites_df[sites_df['index site'] == i].iloc[0]\n",
    "    if solcap[i] > 0:\n",
    "        capacity = solcap[i]\n",
    "        marker_size = 250*capacity/max_capacities\n",
    "        plt.scatter(site['longitude'], site['latitude'], c=capacity, vmin=min_capacities, vmax=max_capacities, cmap=cm, s=marker_size, alpha=0.7, edgecolors='black')\n",
    "    else:\n",
    "        plt.scatter(site['longitude'], site['latitude'], c='black', marker='x', s=15, alpha=0.3)\n",
    "\n",
    "\n",
    "ax, fig = plt.gca(), plt.gcf()\n",
    "plt.title(\"Capacity distribution of sites\")\n",
    "plt.colorbar(scalarMap, label='Capacity [MW]', shrink=0.65, ax=ax)\n",
    "plt.xlabel('Longitude [°]')\n",
    "plt.ylabel('Latitude [°]')\n",
    "plt.grid(alpha=0.3, which='major')\n",
    "plt.grid(alpha=0.1, which='minor')\n",
    "plt.minorticks_on()\n",
    "plt.savefig('Graphes/Graphes_Q3/capacity_distribution.pdf', format='pdf', bbox_inches='tight', pad_inches=0)"
   ]
  },
  {
   "cell_type": "code",
   "execution_count": null,
   "metadata": {},
   "outputs": [],
   "source": [
    "np.dot(sol[:n],np.sum(rendements_on_off, axis = 1)) #Valeur de la production totale de la Q3 "
   ]
  },
  {
   "cell_type": "code",
   "execution_count": null,
   "metadata": {},
   "outputs": [],
   "source": [
    "solm = sol = np.load(\"Data-partie-1/solution_Q1.npy\", allow_pickle=True)"
   ]
  },
  {
   "cell_type": "code",
   "execution_count": null,
   "metadata": {},
   "outputs": [],
   "source": [
    "np.dot(solm[:n],np.sum(rendements_on_off, axis = 1)) #Valeur de la production totale dans la Q1"
   ]
  },
  {
   "cell_type": "code",
   "execution_count": null,
   "metadata": {},
   "outputs": [],
   "source": [
    "energy_produced_Q1 = np.zeros(m)\n",
    "for i in range(m):\n",
    "    energy_produced_Q1[i] += solm[offshore_idx] @ offshore_df[:, i]\n",
    "    energy_produced_Q1[i] += solm[onshore_idx] @ onshore_df[:, i]\n",
    "min_produced_energy_Q1 = min(energy_produced_Q1)"
   ]
  },
  {
   "cell_type": "markdown",
   "metadata": {},
   "source": [
    "### Calcul de l'énergie produite et comparaison avec Q1"
   ]
  },
  {
   "cell_type": "code",
   "execution_count": null,
   "metadata": {},
   "outputs": [],
   "source": [
    "# Load solution\n",
    "sol = np.load('Data-partie-1/solution_Q3.npy')\n",
    "\n",
    "# Compute energy produced per hour\n",
    "energy_produced = np.zeros(m)\n",
    "for i in range(m):\n",
    "    energy_produced[i] += sol[offshore_idx] @ offshore_df[:, i]\n",
    "    energy_produced[i] += sol[onshore_idx] @ onshore_df[:, i]\n",
    "\n",
    "# Plot energy produced over time\n",
    "t = np.arange(1, m + 1)\n",
    "fig = plt.figure(figsize=(10, 5))\n",
    "plt.title('Total energy produced over time')\n",
    "plt.plot(t, energy_produced / 1e3, label='Energy Produced')\n",
    "plt.xlabel('Time [h]')\n",
    "plt.ylabel('Energy produced [GWh]')\n",
    "plt.grid(alpha=0.3)\n",
    "\n",
    "#Comparaison avec Q1\n",
    "min_produced_energy_Q3 = min(energy_produced)\n",
    "plt.axhline(y=min_produced_energy_Q1 / 1e3, color='r', linestyle='--', label='Minimum value of energy production [Q1]')\n",
    "plt.axhline(y=min_produced_energy_Q3 / 1e3, color='g', linestyle='--', label='Minimum value of energy production [Q3]')\n",
    "plt.legend(loc='center left', bbox_to_anchor=(1, 0.5))\n",
    "plt.savefig('Graphes/Graphes_Q3/energy_produced_comparison.pdf', format='pdf', bbox_inches='tight', pad_inches=0)\n",
    "\n",
    "#Energie minimale pour la Q3\n",
    "min_produced_energy_Q3 = min(energy_produced)\n",
    "print('Minimal energy produced:', min_produced_energy_Q3 / 1e3, '[GWh]')"
   ]
  },
  {
   "cell_type": "markdown",
   "metadata": {},
   "source": [
    "### Variabilité de la production d'énergie par période de 3 heures"
   ]
  },
  {
   "cell_type": "code",
   "execution_count": null,
   "metadata": {},
   "outputs": [],
   "source": [
    "variabilities = sol[n:]\n",
    "plt.bar(np.arange(len(variabilities)), variabilities, color='skyblue', label='Variability')\n",
    "plt.axhline(y=delta*P*T, color='r', linestyle='--', label='Threshold $\\delta$PT')\n",
    "plt.text(0.05, 0.95, f'Mean Variability: {np.mean(variabilities):.2f}', transform=plt.gca().transAxes, va='top', ha='left', color='green')\n",
    "plt.xlabel('3-Hour Periods')\n",
    "plt.ylabel('Variability')\n",
    "plt.ylim(0,100000)\n",
    "plt.title('Variability of Energy Production in 3-Hour Periods')\n",
    "plt.legend()\n",
    "\n",
    "plt.savefig('Graphes/Graphes_Q3/variability_comparison.pdf', format='pdf', bbox_inches='tight', pad_inches=0)"
   ]
  },
  {
   "cell_type": "code",
   "execution_count": null,
   "metadata": {},
   "outputs": [],
   "source": [
    "max(variabilities)"
   ]
  },
  {
   "cell_type": "markdown",
   "metadata": {},
   "source": [
    "### Calcul du temps d'exécution en fonction du nombre de sites (à adaptation des contraintes près pour que ça reste faisable)"
   ]
  },
  {
   "cell_type": "code",
   "execution_count": null,
   "metadata": {},
   "outputs": [],
   "source": [
    "def Q3_Solver(P,n):\n",
    "    offshore_idx_cut = offshore_idx[offshore_idx < n]\n",
    "    onshore_idx_cut = onshore_idx[onshore_idx < n]\n",
    "    rendements_on_off_cut = rendements_on_off[:n]\n",
    "    num_period = m//T\n",
    "\n",
    "    # Create A_eq matrix\n",
    "    A_eq = np.zeros((2, n + num_period - 1))\n",
    "    A_eq[0, :n] = 1 # sum of c_i = P\n",
    "    A_eq[1, offshore_idx_cut] = 1 # sum of offshore = k*P\n",
    "\n",
    "    # Create b_eq vector\n",
    "    b_eq = np.zeros(2)\n",
    "    b_eq[0] = P\n",
    "    b_eq[1] = kappa*P\n",
    "\n",
    "    # Create A_ub matrix\n",
    "    A_ub = np.zeros((2*(num_period-1) + 1, n + num_period - 1))\n",
    "    A_ub[0, n:] = 1/(m/T - 1) # Average of variance\n",
    "\n",
    "    for k in range(1, num_period):\n",
    "        # sum c_i * [sum e_i - sum e_i]\n",
    "        A_ub[k, :n] = np.sum(rendements_on_off_cut[:, (k+1)*T:(k+2)*T], axis=1) - np.sum(rendements_on_off_cut[:, k*T:(k+1)*T], axis=1)\n",
    "        A_ub[k, n+k-1] = -1 # ... - Delta_k <= 0\n",
    "\n",
    "        A_ub[k + num_period-1, :n] = -A_ub[k, :n]\n",
    "        A_ub[k + num_period-1, n+k-1] = -1\n",
    "\n",
    "    # Create b_ub vector\n",
    "    b_ub = np.zeros(2*(num_period-1) + 1)\n",
    "    b_ub[0] = delta*P*T\n",
    "\n",
    "    # Create bounds for c_i\n",
    "    bounds = [(None, None) for i in range(n + num_period - 1)]\n",
    "\n",
    "    for i in offshore_idx_cut:\n",
    "        bounds[i] = (0, max_capacity[i])\n",
    "    for i in onshore_idx_cut:\n",
    "        bounds[i] = (0, max_capacity[i])\n",
    "\n",
    "\n",
    "    # Create objective function\n",
    "    objective_function = np.zeros(n + num_period - 1)\n",
    "    objective_function[:n] = -np.sum(rendements_on_off_cut, axis=1)\n",
    "    return objective_function, A_eq, b_eq, A_ub, b_ub, bounds"
   ]
  },
  {
   "cell_type": "code",
   "execution_count": null,
   "metadata": {},
   "outputs": [],
   "source": [
    "problem_sizes = np.concatenate((np.arange(42,100,10), np.arange(100,642,50),[642]))\n",
    "execution_times = np.zeros(len(problem_sizes))\n",
    "for k in range(len(problem_sizes)):\n",
    "    size = problem_sizes[k]\n",
    "    objective_function, A_eq, b_eq, A_ub, b_ub, bounds = Q3_Solver(size/642 * P, size)\n",
    "\n",
    "    start = time.time()\n",
    "    sol = linprog(c=objective_function, A_eq=A_eq, b_eq=b_eq, A_ub=A_ub, b_ub=b_ub, bounds=bounds)\n",
    "    end = time.time()\n",
    "\n",
    "    execution_times[k] = end - start"
   ]
  },
  {
   "cell_type": "code",
   "execution_count": null,
   "metadata": {},
   "outputs": [],
   "source": [
    "plt.plot(problem_sizes, execution_times, marker='o', linestyle='-', label = \"Execution Time (Raw)\")\n",
    "plt.xlabel('Problem Size (Number of Sites)')\n",
    "plt.ylabel('Execution Time (seconds)')\n",
    "plt.title('Execution Time vs. Problem Size')\n",
    "a, b = np.polyfit(problem_sizes, execution_times, 1)\n",
    "plt.plot(problem_sizes, a*problem_sizes  + b, label = \"Execution Time (Linear Regression Estimation)\")\n",
    "plt.legend()\n",
    "plt.grid(True)\n",
    "plt.savefig(\"Graphes/Graphes_Q3/execution_time_vs_problem_size.pdf\", format='pdf', bbox_inches='tight', pad_inches=0)\n",
    "plt.show()"
   ]
  }
 ],
 "metadata": {
  "kernelspec": {
   "display_name": "math-env",
   "language": "python",
   "name": "python3"
  },
  "language_info": {
   "codemirror_mode": {
    "name": "ipython",
    "version": 3
   },
   "file_extension": ".py",
   "mimetype": "text/x-python",
   "name": "python",
   "nbconvert_exporter": "python",
   "pygments_lexer": "ipython3",
   "version": "3.12.2"
  }
 },
 "nbformat": 4,
 "nbformat_minor": 2
}
